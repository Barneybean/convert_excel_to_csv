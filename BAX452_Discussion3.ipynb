{
  "nbformat": 4,
  "nbformat_minor": 0,
  "metadata": {
    "colab": {
      "name": "BAX452_Discussion3.ipynb",
      "version": "0.3.2",
      "provenance": [],
      "collapsed_sections": [],
      "include_colab_link": true
    },
    "kernelspec": {
      "display_name": "Python 3",
      "language": "python",
      "name": "python3"
    }
  },
  "cells": [
    {
      "cell_type": "markdown",
      "metadata": {
        "id": "view-in-github",
        "colab_type": "text"
      },
      "source": [
        "<a href=\"https://colab.research.google.com/github/Barneybean/convert_excel_to_csv/blob/master/BAX452_Discussion3.ipynb\" target=\"_parent\"><img src=\"https://colab.research.google.com/assets/colab-badge.svg\" alt=\"Open In Colab\"/></a>"
      ]
    },
    {
      "metadata": {
        "colab_type": "text",
        "id": "m2RR1FZfZh7c"
      },
      "cell_type": "markdown",
      "source": [
        "# **Find all Excel files in a directory and convert their first sheet to csv**"
      ]
    },
    {
      "metadata": {
        "colab_type": "code",
        "id": "cWXifLNSZevl",
        "colab": {}
      },
      "cell_type": "code",
      "source": [
        "import os\n",
        "import glob\n",
        "import sys\n",
        "import pandas as pd"
      ],
      "execution_count": 0,
      "outputs": []
    },
    {
      "metadata": {
        "colab_type": "code",
        "id": "x99ccI5Qb07N",
        "colab": {}
      },
      "cell_type": "code",
      "source": [
        "def xlsx_to_csv(npath):\n",
        "    #find excels in the directory\n",
        "    path = npath\n",
        "    extension = 'xlsx'\n",
        "    os.chdir(path)\n",
        "    result = [i for i in glob.glob('*.{}'.format(extension))]\n",
        "    print(result)\n",
        "    #convert found Excel to csv \n",
        "    for xlx in result: \n",
        "        data_xls = pd.read_excel(xlx, 'Sheet1', index_col=None)\n",
        "        data_xls.to_csv(str(xlx).strip('xlsx')+'.csv',index=None, encoding='utf-8')\n"
      ],
      "execution_count": 0,
      "outputs": []
    },
    {
      "metadata": {
        "id": "2-BjQDmos_Bl",
        "colab_type": "text"
      },
      "cell_type": "markdown",
      "source": [
        "## **Usage Method One - Paste file directory **"
      ]
    },
    {
      "metadata": {
        "colab_type": "code",
        "id": "kUmvfaKTa8xS",
        "outputId": "5662b237-e807-40fd-d5b6-eb8cf05198e0",
        "colab": {
          "base_uri": "https://localhost:8080/",
          "height": 300
        }
      },
      "cell_type": "code",
      "source": [
        "if __name__ == \"__main__\":\n",
        "    #find the file path that you want to excute the code and paste the path below\n",
        "    file_directory = \"/Users/williamgao/Desktop\"\n",
        "    xlsx_to_csv(file_directory)"
      ],
      "execution_count": 0,
      "outputs": [
        {
          "output_type": "stream",
          "text": [
            "['Book1 2.xlsx', 'Book1.xlsx']\n"
          ],
          "name": "stdout"
        }
      ]
    },
    {
      "metadata": {
        "id": "0wnO-EJntoAk",
        "colab_type": "text"
      },
      "cell_type": "markdown",
      "source": [
        "## **Usage Method Two - Download file and run in local**"
      ]
    },
    {
      "metadata": {
        "colab_type": "code",
        "id": "lHGLRkHidBDT",
        "outputId": "a490b876-62f9-4b58-a3bd-b914c364abe2",
        "colab": {}
      },
      "cell_type": "code",
      "source": [
        "if __name__ == \"__main__\":\n",
        "    import sys\n",
        "\n",
        "    if len(sys.argv) == 2:\n",
        "        npath = sys.argv[1]\n",
        "        find_duplicates(npath)\n",
        "        sys.exit(0)\n",
        "    print(\"Pass in path to convert Excels\")\n"
      ],
      "execution_count": 0,
      "outputs": [
        {
          "output_type": "stream",
          "text": [
            "Pass in path to convert Excels\n"
          ],
          "name": "stdout"
        }
      ]
    },
    {
      "metadata": {
        "id": "TBFRp38MsvMP",
        "colab_type": "code",
        "colab": {}
      },
      "cell_type": "code",
      "source": [
        ""
      ],
      "execution_count": 0,
      "outputs": []
    },
    {
      "metadata": {
        "id": "8J_ZRj69svMR",
        "colab_type": "code",
        "colab": {}
      },
      "cell_type": "code",
      "source": [
        ""
      ],
      "execution_count": 0,
      "outputs": []
    }
  ]
}